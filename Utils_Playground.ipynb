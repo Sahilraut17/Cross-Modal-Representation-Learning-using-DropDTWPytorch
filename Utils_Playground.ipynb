{
 "cells": [
  {
   "cell_type": "code",
   "execution_count": 8,
   "id": "7c8ea77f",
   "metadata": {},
   "outputs": [],
   "source": [
    "import os\n",
    "import torch\n",
    "import pandas as pd\n",
    "\n",
    "from data_handlers import YCDataset"
   ]
  },
  {
   "cell_type": "code",
   "execution_count": 9,
   "id": "e82b588c",
   "metadata": {},
   "outputs": [
    {
     "data": {
      "text/plain": [
       "((1194, 8), (417, 8))"
      ]
     },
     "execution_count": 9,
     "metadata": {},
     "output_type": "execute_result"
    }
   ],
   "source": [
    "training_df = pd.read_csv('training_with_labels.csv')\n",
    "validation_df = pd.read_csv('validation_with_labels.csv')\n",
    "training_df.shape, validation_df.shape"
   ]
  },
  {
   "cell_type": "code",
   "execution_count": 10,
   "id": "0c9717e5",
   "metadata": {},
   "outputs": [],
   "source": [
    "train_dataset = YCDataset(training_df)"
   ]
  },
  {
   "cell_type": "code",
   "execution_count": 12,
   "id": "3405816e",
   "metadata": {},
   "outputs": [],
   "source": [
    "def compute_normalization_parameters(dataset, feat):\n",
    "    mean_x, mean_z = torch.zeros(feat), torch.zeros(feat)\n",
    "    mean_x2, mean_z2 = torch.zeros(feat), torch.zeros(feat)\n",
    "    x_count, z_count = 0, 0\n",
    "    \n",
    "    for s in dataset:\n",
    "        mean_x += s['video_feature'].sum(0)\n",
    "        mean_x2 += (s['video_feature'] ** 2).sum(0)\n",
    "        x_count += s['video_len']\n",
    "    \n",
    "        mean_z += s['step_feature'].sum(0)\n",
    "        mean_z2 += (s['step_feature']**2).sum(0)\n",
    "        z_count += s['step_len']\n",
    "        \n",
    "    mean_x = mean_x / x_count\n",
    "    mean_z = mean_z / z_count\n",
    "    \n",
    "    sigma_x = (mean_x2/x_count - mean_x ** 2).sqrt()\n",
    "    sigma_z = (mean_z2/z_count - mean_z ** 2).sqrt()\n",
    "    \n",
    "    return mean_x, mean_z, sigma_x, sigma_z"
   ]
  },
  {
   "cell_type": "code",
   "execution_count": 14,
   "id": "c22d4306",
   "metadata": {},
   "outputs": [
    {
     "data": {
      "text/plain": [
       "(torch.Size([512]), torch.Size([512]), torch.Size([512]), torch.Size([512]))"
      ]
     },
     "execution_count": 14,
     "metadata": {},
     "output_type": "execute_result"
    }
   ],
   "source": [
    "mean_x, mean_z, sigma_x, sigma_z = compute_normalization_parameters(train_dataset, 512)\n",
    "mean_x.shape, mean_z.shape, sigma_x.shape, sigma_z.shape"
   ]
  },
  {
   "cell_type": "code",
   "execution_count": null,
   "id": "1290f464",
   "metadata": {},
   "outputs": [],
   "source": []
  }
 ],
 "metadata": {
  "kernelspec": {
   "display_name": "Python 3 (ipykernel)",
   "language": "python",
   "name": "python3"
  },
  "language_info": {
   "codemirror_mode": {
    "name": "ipython",
    "version": 3
   },
   "file_extension": ".py",
   "mimetype": "text/x-python",
   "name": "python",
   "nbconvert_exporter": "python",
   "pygments_lexer": "ipython3",
   "version": "3.8.10"
  }
 },
 "nbformat": 4,
 "nbformat_minor": 5
}
