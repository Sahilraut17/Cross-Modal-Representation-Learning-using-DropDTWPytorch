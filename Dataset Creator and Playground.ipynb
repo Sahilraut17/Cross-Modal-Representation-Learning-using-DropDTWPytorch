{
 "cells": [
  {
   "cell_type": "code",
   "execution_count": 10,
   "id": "ec716774",
   "metadata": {},
   "outputs": [
    {
     "data": {
      "text/html": [
       "<style>.container { width:95% !important; }</style>"
      ],
      "text/plain": [
       "<IPython.core.display.HTML object>"
      ]
     },
     "metadata": {},
     "output_type": "display_data"
    }
   ],
   "source": [
    "from IPython.display import display, HTML\n",
    "display(HTML(\"<style>.container { width:95% !important; }</style>\"))"
   ]
  },
  {
   "cell_type": "code",
   "execution_count": 114,
   "id": "4b7bd3ed",
   "metadata": {},
   "outputs": [],
   "source": [
    "import os\n",
    "import math\n",
    "import json\n",
    "import torch\n",
    "import random\n",
    "import pandas as pd\n",
    "import numpy as np\n",
    "import glob\n",
    "from tqdm import tqdm\n",
    "from pathlib import Path\n",
    "from matplotlib import pyplot as plt\n",
    "\n",
    "opj = lambda x, y: os.path.join(x, y)"
   ]
  },
  {
   "cell_type": "code",
   "execution_count": 21,
   "id": "3f3a68c3",
   "metadata": {},
   "outputs": [],
   "source": [
    "data_path = Path('.')\n",
    "ann_path = Path('/common/users/dm1487/YouCookII')\n",
    "videos_path = data_path/'raw_frames/raw_videos'\n",
    "steps_path = data_path/'raw_text'"
   ]
  },
  {
   "cell_type": "code",
   "execution_count": 22,
   "id": "b045fed8",
   "metadata": {},
   "outputs": [
    {
     "name": "stdout",
     "output_type": "stream",
     "text": [
      "raw_frames/raw_videos/training\n"
     ]
    }
   ],
   "source": [
    "v_train, v_val = videos_path/'training', videos_path/'validation'\n",
    "t_train, t_val = steps_path/'training', steps_path/'validation'\n",
    "\n",
    "print(v_train)"
   ]
  },
  {
   "cell_type": "code",
   "execution_count": 23,
   "id": "ac321125",
   "metadata": {},
   "outputs": [],
   "source": [
    "frame_features = torch.load(v_train/'101'/'S7hpTy1Rx1k.pth')\n",
    "step_features = torch.load(t_train/'101'/'S7hpTy1Rx1k.pth')"
   ]
  },
  {
   "cell_type": "code",
   "execution_count": 69,
   "id": "b5aebd7f",
   "metadata": {},
   "outputs": [],
   "source": [
    "labels = pd.read_csv(ann_path/'label_foodtype.csv', header=None, names=['class','class_label']).set_index('class')"
   ]
  },
  {
   "cell_type": "code",
   "execution_count": 8,
   "id": "25fde7f2",
   "metadata": {},
   "outputs": [],
   "source": [
    "label_counts = pd.DataFrame({'class': sorted(os.listdir(v_train)), \n",
    "              'counts': [len(os.listdir(opj(v_train, i))) for i in sorted(os.listdir(v_train))]})\n",
    "label_counts['class'] = label_counts['class'].astype(np.int64)"
   ]
  },
  {
   "cell_type": "code",
   "execution_count": 9,
   "id": "10992dbd",
   "metadata": {},
   "outputs": [
    {
     "data": {
      "text/plain": [
       "<AxesSubplot:ylabel='Frequency'>"
      ]
     },
     "execution_count": 9,
     "metadata": {},
     "output_type": "execute_result"
    },
    {
     "data": {
      "image/png": "[encoded data removed]",
      "text/plain": [
       "<Figure size 432x288 with 1 Axes>"
      ]
     },
     "metadata": {
      "needs_background": "light"
     },
     "output_type": "display_data"
    }
   ],
   "source": [
    "label_ = labels.join(label_counts.set_index('class')).reset_index()\n",
    "label_ = label_.fillna(0)\n",
    "label_ = label_[label_['counts'] > 5.0]\n",
    "label_['counts'].plot.hist()"
   ]
  },
  {
   "cell_type": "code",
   "execution_count": 10,
   "id": "8a58c906",
   "metadata": {},
   "outputs": [
    {
     "data": {
      "text/html": [
       "<div>\n",
       "<style scoped>\n",
       "    .dataframe tbody tr th:only-of-type {\n",
       "        vertical-align: middle;\n",
       "    }\n",
       "\n",
       "    .dataframe tbody tr th {\n",
       "        vertical-align: top;\n",
       "    }\n",
       "\n",
       "    .dataframe thead th {\n",
       "        text-align: right;\n",
       "    }\n",
       "</style>\n",
       "<table border=\"1\" class=\"dataframe\">\n",
       "  <thead>\n",
       "    <tr style=\"text-align: right;\">\n",
       "      <th></th>\n",
       "      <th>class</th>\n",
       "      <th>class_label</th>\n",
       "      <th>counts</th>\n",
       "    </tr>\n",
       "  </thead>\n",
       "  <tbody>\n",
       "    <tr>\n",
       "      <th>0</th>\n",
       "      <td>101</td>\n",
       "      <td>BLT</td>\n",
       "      <td>16.0</td>\n",
       "    </tr>\n",
       "    <tr>\n",
       "      <th>1</th>\n",
       "      <td>102</td>\n",
       "      <td>onion rings</td>\n",
       "      <td>16.0</td>\n",
       "    </tr>\n",
       "    <tr>\n",
       "      <th>2</th>\n",
       "      <td>103</td>\n",
       "      <td>burger</td>\n",
       "      <td>14.0</td>\n",
       "    </tr>\n",
       "    <tr>\n",
       "      <th>3</th>\n",
       "      <td>104</td>\n",
       "      <td>scrambled eggs</td>\n",
       "      <td>15.0</td>\n",
       "    </tr>\n",
       "    <tr>\n",
       "      <th>4</th>\n",
       "      <td>105</td>\n",
       "      <td>fried chicken</td>\n",
       "      <td>15.0</td>\n",
       "    </tr>\n",
       "  </tbody>\n",
       "</table>\n",
       "</div>"
      ],
      "text/plain": [
       "   class     class_label  counts\n",
       "0    101             BLT    16.0\n",
       "1    102     onion rings    16.0\n",
       "2    103          burger    14.0\n",
       "3    104  scrambled eggs    15.0\n",
       "4    105   fried chicken    15.0"
      ]
     },
     "execution_count": 10,
     "metadata": {},
     "output_type": "execute_result"
    }
   ],
   "source": [
    "label_.head()"
   ]
  },
  {
   "cell_type": "code",
   "execution_count": 26,
   "id": "b2273620",
   "metadata": {},
   "outputs": [],
   "source": [
    "ann = []\n",
    "with open(ann_path/'annotations/youcookii_annotations_trainval.json', 'rb') as f:\n",
    "    ann = json.load(f)"
   ]
  },
  {
   "cell_type": "code",
   "execution_count": 12,
   "id": "bba84282",
   "metadata": {},
   "outputs": [
    {
     "name": "stderr",
     "output_type": "stream",
     "text": [
      "/tmp/ipykernel_336239/2903531243.py:6: SettingWithCopyWarning: \n",
      "A value is trying to be set on a copy of a slice from a DataFrame.\n",
      "Try using .loc[row_indexer,col_indexer] = value instead\n",
      "\n",
      "See the caveats in the documentation: https://pandas.pydata.org/pandas-docs/stable/user_guide/indexing.html#returning-a-view-versus-a-copy\n",
      "  training_ann['class_label'] = training_ann['class_label'].astype('category')\n",
      "/tmp/ipykernel_336239/2903531243.py:7: SettingWithCopyWarning: \n",
      "A value is trying to be set on a copy of a slice from a DataFrame.\n",
      "Try using .loc[row_indexer,col_indexer] = value instead\n",
      "\n",
      "See the caveats in the documentation: https://pandas.pydata.org/pandas-docs/stable/user_guide/indexing.html#returning-a-view-versus-a-copy\n",
      "  validation_ann['class_label'] = validation_ann['class_label'].astype('category')\n"
     ]
    },
    {
     "data": {
      "text/plain": [
       "((1333, 5), (457, 5))"
      ]
     },
     "execution_count": 12,
     "metadata": {},
     "output_type": "execute_result"
    }
   ],
   "source": [
    "annotations = pd.DataFrame([[k, v['recipe_type'], v['subset']] for k, v in ann['database'].items()], columns=['key', 'class', 'subset'])\n",
    "annotations['class'] = annotations['class'].astype(np.int64)\n",
    "annotations = annotations.set_index('class').join(label_.set_index('class')).reset_index()\n",
    "training_ann = annotations[annotations['subset'] == 'training']\n",
    "validation_ann = annotations[annotations['subset'] == 'validation']\n",
    "training_ann['class_label'] = training_ann['class_label'].astype('category')\n",
    "validation_ann['class_label'] = validation_ann['class_label'].astype('category')\n",
    "training_ann.shape, validation_ann.shape"
   ]
  },
  {
   "cell_type": "code",
   "execution_count": 13,
   "id": "784a2c01",
   "metadata": {},
   "outputs": [
    {
     "data": {
      "text/plain": [
       "<AxesSubplot:ylabel='Frequency'>"
      ]
     },
     "execution_count": 13,
     "metadata": {},
     "output_type": "execute_result"
    },
    {
     "data": {
      "image/png": "[encoded data removed]",
      "text/plain": [
       "<Figure size 1080x288 with 2 Axes>"
      ]
     },
     "metadata": {
      "needs_background": "light"
     },
     "output_type": "display_data"
    }
   ],
   "source": [
    "fig, ax = plt.subplots(1, 2, figsize=(15, 4), sharey=True)\n",
    "training_ann['class_label'].cat.codes.plot.hist(ax=ax[0])\n",
    "validation_ann['class_label'].cat.codes.plot.hist(ax=ax[1])"
   ]
  },
  {
   "cell_type": "code",
   "execution_count": 14,
   "id": "0d7eb02b",
   "metadata": {},
   "outputs": [
    {
     "name": "stderr",
     "output_type": "stream",
     "text": [
      "/tmp/ipykernel_336239/614327944.py:1: SettingWithCopyWarning: \n",
      "A value is trying to be set on a copy of a slice from a DataFrame.\n",
      "Try using .loc[row_indexer,col_indexer] = value instead\n",
      "\n",
      "See the caveats in the documentation: https://pandas.pydata.org/pandas-docs/stable/user_guide/indexing.html#returning-a-view-versus-a-copy\n",
      "  training_ann['video_feat'] = training_ann[['class', 'key']].apply(lambda row: opj(v_train, f\"{row['class']}/{row['key']}.pth\"), axis=1)\n",
      "/tmp/ipykernel_336239/614327944.py:10: SettingWithCopyWarning: \n",
      "A value is trying to be set on a copy of a slice from a DataFrame.\n",
      "Try using .loc[row_indexer,col_indexer] = value instead\n",
      "\n",
      "See the caveats in the documentation: https://pandas.pydata.org/pandas-docs/stable/user_guide/indexing.html#returning-a-view-versus-a-copy\n",
      "  validation_ann['video_feat'] = validation_ann[['class', 'key']].apply(lambda row: opj(v_val, f\"{row['class']}/{row['key']}.pth\"), axis=1)\n"
     ]
    }
   ],
   "source": [
    "\n",
    "training_ann['video_feat'] = training_ann[['class', 'key']].apply(lambda row: opj(v_train, f\"{row['class']}/{row['key']}.pth\"), axis=1)\n",
    "training_ann = training_ann[training_ann['video_feat'].apply(lambda x: os.path.exists(x))]\n",
    "\n",
    "training_ann['text_feat'] = training_ann[['class', 'key']].apply(lambda row: opj(t_train, f\"{row['class']}/{row['key']}.pth\"), axis=1)\n",
    "training_ann = training_ann[training_ann['text_feat'].apply(lambda x: os.path.exists(x))]\n",
    "\n",
    "training_outlier = '/common/users/dm1487/milnce_features/raw_frames/training/227/vUhoMXc7FJM.pth'\n",
    "training_ann = training_ann[training_ann['video_feat'] != training_outlier]\n",
    "\n",
    "validation_ann['video_feat'] = validation_ann[['class', 'key']].apply(lambda row: opj(v_val, f\"{row['class']}/{row['key']}.pth\"), axis=1)\n",
    "validation_ann = validation_ann[validation_ann['video_feat'].apply(lambda x: os.path.exists(x))]\n",
    "validation_ann['text_feat'] = validation_ann[['class', 'key']].apply(lambda row: opj(t_val, f\"{row['class']}/{row['key']}.pth\"), axis=1)\n",
    "validation_ann = validation_ann[validation_ann['text_feat'].apply(lambda x: os.path.exists(x))]\n",
    "\n",
    "\n",
    "\n",
    "training_ann.to_csv('training_with_labels_clip.csv')\n",
    "validation_ann.to_csv('validation_with_labels_clip.csv')"
   ]
  },
  {
   "cell_type": "code",
   "execution_count": 15,
   "id": "c5b2d18e",
   "metadata": {},
   "outputs": [],
   "source": [
    "training_ann = pd.read_csv('training_with_labels.csv')"
   ]
  },
  {
   "cell_type": "code",
   "execution_count": 16,
   "id": "58e916e1",
   "metadata": {},
   "outputs": [
    {
     "data": {
      "text/html": [
       "<div>\n",
       "<style scoped>\n",
       "    .dataframe tbody tr th:only-of-type {\n",
       "        vertical-align: middle;\n",
       "    }\n",
       "\n",
       "    .dataframe tbody tr th {\n",
       "        vertical-align: top;\n",
       "    }\n",
       "\n",
       "    .dataframe thead th {\n",
       "        text-align: right;\n",
       "    }\n",
       "</style>\n",
       "<table border=\"1\" class=\"dataframe\">\n",
       "  <thead>\n",
       "    <tr style=\"text-align: right;\">\n",
       "      <th></th>\n",
       "      <th>Unnamed: 0</th>\n",
       "      <th>Unnamed: 0.1</th>\n",
       "      <th>class</th>\n",
       "      <th>key</th>\n",
       "      <th>subset</th>\n",
       "      <th>class_label</th>\n",
       "      <th>counts</th>\n",
       "      <th>video_feat</th>\n",
       "      <th>text_feat</th>\n",
       "      <th>sizes</th>\n",
       "    </tr>\n",
       "  </thead>\n",
       "  <tbody>\n",
       "    <tr>\n",
       "      <th>0</th>\n",
       "      <td>0</td>\n",
       "      <td>1</td>\n",
       "      <td>101</td>\n",
       "      <td>bQ3QYyFglc0</td>\n",
       "      <td>training</td>\n",
       "      <td>BLT</td>\n",
       "      <td>16.0</td>\n",
       "      <td>/common/users/dm1487/milnce_features/raw_frame...</td>\n",
       "      <td>/common/users/dm1487/milnce_features/raw_text/...</td>\n",
       "      <td>255</td>\n",
       "    </tr>\n",
       "    <tr>\n",
       "      <th>6</th>\n",
       "      <td>381</td>\n",
       "      <td>554</td>\n",
       "      <td>202</td>\n",
       "      <td>3cpjOPVkJ-Y</td>\n",
       "      <td>training</td>\n",
       "      <td>minestrone</td>\n",
       "      <td>10.0</td>\n",
       "      <td>/common/users/dm1487/milnce_features/raw_frame...</td>\n",
       "      <td>/common/users/dm1487/milnce_features/raw_text/...</td>\n",
       "      <td>206</td>\n",
       "    </tr>\n",
       "    <tr>\n",
       "      <th>13</th>\n",
       "      <td>941</td>\n",
       "      <td>1410</td>\n",
       "      <td>321</td>\n",
       "      <td>KgpkoZrOqck</td>\n",
       "      <td>training</td>\n",
       "      <td>general's chicken</td>\n",
       "      <td>12.0</td>\n",
       "      <td>/common/users/dm1487/milnce_features/raw_frame...</td>\n",
       "      <td>/common/users/dm1487/milnce_features/raw_text/...</td>\n",
       "      <td>555</td>\n",
       "    </tr>\n",
       "    <tr>\n",
       "      <th>9</th>\n",
       "      <td>595</td>\n",
       "      <td>885</td>\n",
       "      <td>219</td>\n",
       "      <td>Qy366zq9vws</td>\n",
       "      <td>training</td>\n",
       "      <td>sauerkraut</td>\n",
       "      <td>12.0</td>\n",
       "      <td>/common/users/dm1487/milnce_features/raw_frame...</td>\n",
       "      <td>/common/users/dm1487/milnce_features/raw_text/...</td>\n",
       "      <td>136</td>\n",
       "    </tr>\n",
       "    <tr>\n",
       "      <th>8</th>\n",
       "      <td>594</td>\n",
       "      <td>884</td>\n",
       "      <td>219</td>\n",
       "      <td>sJVn7H0pQRw</td>\n",
       "      <td>training</td>\n",
       "      <td>sauerkraut</td>\n",
       "      <td>12.0</td>\n",
       "      <td>/common/users/dm1487/milnce_features/raw_frame...</td>\n",
       "      <td>/common/users/dm1487/milnce_features/raw_text/...</td>\n",
       "      <td>240</td>\n",
       "    </tr>\n",
       "    <tr>\n",
       "      <th>11</th>\n",
       "      <td>737</td>\n",
       "      <td>1089</td>\n",
       "      <td>230</td>\n",
       "      <td>ztDPzIoZTj0</td>\n",
       "      <td>training</td>\n",
       "      <td>shish kabob</td>\n",
       "      <td>15.0</td>\n",
       "      <td>/common/users/dm1487/milnce_features/raw_frame...</td>\n",
       "      <td>/common/users/dm1487/milnce_features/raw_text/...</td>\n",
       "      <td>179</td>\n",
       "    </tr>\n",
       "    <tr>\n",
       "      <th>12</th>\n",
       "      <td>945</td>\n",
       "      <td>1416</td>\n",
       "      <td>321</td>\n",
       "      <td>Dr3rUEc1uVE</td>\n",
       "      <td>training</td>\n",
       "      <td>general's chicken</td>\n",
       "      <td>12.0</td>\n",
       "      <td>/common/users/dm1487/milnce_features/raw_frame...</td>\n",
       "      <td>/common/users/dm1487/milnce_features/raw_text/...</td>\n",
       "      <td>352</td>\n",
       "    </tr>\n",
       "    <tr>\n",
       "      <th>10</th>\n",
       "      <td>732</td>\n",
       "      <td>1081</td>\n",
       "      <td>230</td>\n",
       "      <td>IsyVAXuaCC8</td>\n",
       "      <td>training</td>\n",
       "      <td>shish kabob</td>\n",
       "      <td>15.0</td>\n",
       "      <td>/common/users/dm1487/milnce_features/raw_frame...</td>\n",
       "      <td>/common/users/dm1487/milnce_features/raw_text/...</td>\n",
       "      <td>554</td>\n",
       "    </tr>\n",
       "    <tr>\n",
       "      <th>5</th>\n",
       "      <td>320</td>\n",
       "      <td>468</td>\n",
       "      <td>124</td>\n",
       "      <td>OL_bDVVxmwA</td>\n",
       "      <td>training</td>\n",
       "      <td>hot dogs</td>\n",
       "      <td>15.0</td>\n",
       "      <td>/common/users/dm1487/milnce_features/raw_frame...</td>\n",
       "      <td>/common/users/dm1487/milnce_features/raw_text/...</td>\n",
       "      <td>547</td>\n",
       "    </tr>\n",
       "    <tr>\n",
       "      <th>2</th>\n",
       "      <td>94</td>\n",
       "      <td>133</td>\n",
       "      <td>107</td>\n",
       "      <td>8fVUcbC8MgM</td>\n",
       "      <td>training</td>\n",
       "      <td>calamari</td>\n",
       "      <td>17.0</td>\n",
       "      <td>/common/users/dm1487/milnce_features/raw_frame...</td>\n",
       "      <td>/common/users/dm1487/milnce_features/raw_text/...</td>\n",
       "      <td>301</td>\n",
       "    </tr>\n",
       "    <tr>\n",
       "      <th>7</th>\n",
       "      <td>377</td>\n",
       "      <td>549</td>\n",
       "      <td>202</td>\n",
       "      <td>MtWNUAUmGpU</td>\n",
       "      <td>training</td>\n",
       "      <td>minestrone</td>\n",
       "      <td>10.0</td>\n",
       "      <td>/common/users/dm1487/milnce_features/raw_frame...</td>\n",
       "      <td>/common/users/dm1487/milnce_features/raw_text/...</td>\n",
       "      <td>369</td>\n",
       "    </tr>\n",
       "    <tr>\n",
       "      <th>4</th>\n",
       "      <td>324</td>\n",
       "      <td>472</td>\n",
       "      <td>124</td>\n",
       "      <td>4P4BriHZJm8</td>\n",
       "      <td>training</td>\n",
       "      <td>hot dogs</td>\n",
       "      <td>15.0</td>\n",
       "      <td>/common/users/dm1487/milnce_features/raw_frame...</td>\n",
       "      <td>/common/users/dm1487/milnce_features/raw_text/...</td>\n",
       "      <td>414</td>\n",
       "    </tr>\n",
       "    <tr>\n",
       "      <th>14</th>\n",
       "      <td>1071</td>\n",
       "      <td>1611</td>\n",
       "      <td>410</td>\n",
       "      <td>0Y8z5xbGKqI</td>\n",
       "      <td>training</td>\n",
       "      <td>chapati</td>\n",
       "      <td>14.0</td>\n",
       "      <td>/common/users/dm1487/milnce_features/raw_frame...</td>\n",
       "      <td>/common/users/dm1487/milnce_features/raw_text/...</td>\n",
       "      <td>128</td>\n",
       "    </tr>\n",
       "    <tr>\n",
       "      <th>15</th>\n",
       "      <td>1070</td>\n",
       "      <td>1610</td>\n",
       "      <td>410</td>\n",
       "      <td>GYolHIuQlEY</td>\n",
       "      <td>training</td>\n",
       "      <td>chapati</td>\n",
       "      <td>14.0</td>\n",
       "      <td>/common/users/dm1487/milnce_features/raw_frame...</td>\n",
       "      <td>/common/users/dm1487/milnce_features/raw_text/...</td>\n",
       "      <td>53</td>\n",
       "    </tr>\n",
       "    <tr>\n",
       "      <th>1</th>\n",
       "      <td>13</td>\n",
       "      <td>18</td>\n",
       "      <td>101</td>\n",
       "      <td>3rtzSsuJ4Ng</td>\n",
       "      <td>training</td>\n",
       "      <td>BLT</td>\n",
       "      <td>16.0</td>\n",
       "      <td>/common/users/dm1487/milnce_features/raw_frame...</td>\n",
       "      <td>/common/users/dm1487/milnce_features/raw_text/...</td>\n",
       "      <td>138</td>\n",
       "    </tr>\n",
       "    <tr>\n",
       "      <th>3</th>\n",
       "      <td>90</td>\n",
       "      <td>129</td>\n",
       "      <td>107</td>\n",
       "      <td>5yJz2Sc7T5k</td>\n",
       "      <td>training</td>\n",
       "      <td>calamari</td>\n",
       "      <td>17.0</td>\n",
       "      <td>/common/users/dm1487/milnce_features/raw_frame...</td>\n",
       "      <td>/common/users/dm1487/milnce_features/raw_text/...</td>\n",
       "      <td>190</td>\n",
       "    </tr>\n",
       "  </tbody>\n",
       "</table>\n",
       "</div>"
      ],
      "text/plain": [
       "    Unnamed: 0  Unnamed: 0.1  class          key    subset        class_label  \\\n",
       "0            0             1    101  bQ3QYyFglc0  training                BLT   \n",
       "6          381           554    202  3cpjOPVkJ-Y  training         minestrone   \n",
       "13         941          1410    321  KgpkoZrOqck  training  general's chicken   \n",
       "9          595           885    219  Qy366zq9vws  training         sauerkraut   \n",
       "8          594           884    219  sJVn7H0pQRw  training         sauerkraut   \n",
       "11         737          1089    230  ztDPzIoZTj0  training        shish kabob   \n",
       "12         945          1416    321  Dr3rUEc1uVE  training  general's chicken   \n",
       "10         732          1081    230  IsyVAXuaCC8  training        shish kabob   \n",
       "5          320           468    124  OL_bDVVxmwA  training           hot dogs   \n",
       "2           94           133    107  8fVUcbC8MgM  training           calamari   \n",
       "7          377           549    202  MtWNUAUmGpU  training         minestrone   \n",
       "4          324           472    124  4P4BriHZJm8  training           hot dogs   \n",
       "14        1071          1611    410  0Y8z5xbGKqI  training            chapati   \n",
       "15        1070          1610    410  GYolHIuQlEY  training            chapati   \n",
       "1           13            18    101  3rtzSsuJ4Ng  training                BLT   \n",
       "3           90           129    107  5yJz2Sc7T5k  training           calamari   \n",
       "\n",
       "    counts                                         video_feat  \\\n",
       "0     16.0  /common/users/dm1487/milnce_features/raw_frame...   \n",
       "6     10.0  /common/users/dm1487/milnce_features/raw_frame...   \n",
       "13    12.0  /common/users/dm1487/milnce_features/raw_frame...   \n",
       "9     12.0  /common/users/dm1487/milnce_features/raw_frame...   \n",
       "8     12.0  /common/users/dm1487/milnce_features/raw_frame...   \n",
       "11    15.0  /common/users/dm1487/milnce_features/raw_frame...   \n",
       "12    12.0  /common/users/dm1487/milnce_features/raw_frame...   \n",
       "10    15.0  /common/users/dm1487/milnce_features/raw_frame...   \n",
       "5     15.0  /common/users/dm1487/milnce_features/raw_frame...   \n",
       "2     17.0  /common/users/dm1487/milnce_features/raw_frame...   \n",
       "7     10.0  /common/users/dm1487/milnce_features/raw_frame...   \n",
       "4     15.0  /common/users/dm1487/milnce_features/raw_frame...   \n",
       "14    14.0  /common/users/dm1487/milnce_features/raw_frame...   \n",
       "15    14.0  /common/users/dm1487/milnce_features/raw_frame...   \n",
       "1     16.0  /common/users/dm1487/milnce_features/raw_frame...   \n",
       "3     17.0  /common/users/dm1487/milnce_features/raw_frame...   \n",
       "\n",
       "                                            text_feat  sizes  \n",
       "0   /common/users/dm1487/milnce_features/raw_text/...    255  \n",
       "6   /common/users/dm1487/milnce_features/raw_text/...    206  \n",
       "13  /common/users/dm1487/milnce_features/raw_text/...    555  \n",
       "9   /common/users/dm1487/milnce_features/raw_text/...    136  \n",
       "8   /common/users/dm1487/milnce_features/raw_text/...    240  \n",
       "11  /common/users/dm1487/milnce_features/raw_text/...    179  \n",
       "12  /common/users/dm1487/milnce_features/raw_text/...    352  \n",
       "10  /common/users/dm1487/milnce_features/raw_text/...    554  \n",
       "5   /common/users/dm1487/milnce_features/raw_text/...    547  \n",
       "2   /common/users/dm1487/milnce_features/raw_text/...    301  \n",
       "7   /common/users/dm1487/milnce_features/raw_text/...    369  \n",
       "4   /common/users/dm1487/milnce_features/raw_text/...    414  \n",
       "14  /common/users/dm1487/milnce_features/raw_text/...    128  \n",
       "15  /common/users/dm1487/milnce_features/raw_text/...     53  \n",
       "1   /common/users/dm1487/milnce_features/raw_text/...    138  \n",
       "3   /common/users/dm1487/milnce_features/raw_text/...    190  "
      ]
     },
     "execution_count": 16,
     "metadata": {},
     "output_type": "execute_result"
    }
   ],
   "source": [
    "BATCH_SIZE = 16\n",
    "CLASS_LEVEL_BATCH = 8\n",
    "VIDEO_LEVEL_BATCH = BATCH_SIZE // CLASS_LEVEL_BATCH\n",
    "sampled_classes = random.sample(list(training_ann['class'].unique()), CLASS_LEVEL_BATCH)\n",
    "training_ann[training_ann['class'].isin(sampled_classes)].groupby('class').apply(lambda x: x.sample(n=VIDEO_LEVEL_BATCH)).reset_index(drop = True).sample(frac=1)"
   ]
  },
  {
   "cell_type": "code",
   "execution_count": 17,
   "id": "707e6d13",
   "metadata": {},
   "outputs": [],
   "source": [
    "from torch.utils.data import Dataset, DataLoader\n",
    "\n",
    "class YCDataset(Dataset):\n",
    "    \n",
    "    def __init__(self, data_df, text_len=16, video_len=774):\n",
    "        self.df = data_df\n",
    "        self.text_len = text_len\n",
    "        self.video_len = video_len\n",
    "\n",
    "    def __len__(self):\n",
    "        return self.df.shape[0]\n",
    "    \n",
    "    def __getitem__(self, idx):\n",
    "        ## read step features\n",
    "        \n",
    "        step_feature = torch.load(self.df.iloc[idx]['text_feat']).to('cuda:1')\n",
    "#         print(step_feature)\n",
    "        true_step_len = step_feature.size(0) \n",
    "        assert step_feature.size(0) <= self.text_len, 'Increase text_len'\n",
    "        padding = self.text_len - step_feature.size(0)\n",
    "        step_feature = torch.vstack([step_feature, torch.zeros(padding, step_feature.size(1)).to('cuda:1')])\n",
    "            \n",
    "        \n",
    "        ## read video features\n",
    "        video_feature = torch.load(self.df.iloc[idx]['video_feat']).cpu()\n",
    "#         print(video_feature)\n",
    "        true_vid_len = video_feature.size(0)\n",
    "        assert video_feature.size(0) <= self.video_len, f'Increase video_len {video_feature.size(0)}'\n",
    "        padding = self.video_len - video_feature.size(0)\n",
    "        video_feature = torch.vstack([video_feature, torch.zeros(padding, video_feature.size(1))])\n",
    "        \n",
    "        return {'step_len': true_step_len, 'video_len':true_vid_len, 'step_feature': step_feature.float(), 'video_feature': video_feature.float()}"
   ]
  },
  {
   "cell_type": "code",
   "execution_count": 18,
   "id": "fd64c5d4",
   "metadata": {},
   "outputs": [
    {
     "data": {
      "text/plain": [
       "{'step_len': 11,\n",
       " 'video_len': 287,\n",
       " 'step_feature': tensor([[ 5.5458, 16.0144, -2.8209,  ...,  0.4289, 12.4536,  2.2977],\n",
       "         [11.9443, -6.3559, -1.6196,  ...,  0.4651,  9.2968,  4.3481],\n",
       "         [ 1.7815, 25.4034,  5.7600,  ..., -7.6307,  2.6723, -2.3143],\n",
       "         ...,\n",
       "         [ 0.0000,  0.0000,  0.0000,  ...,  0.0000,  0.0000,  0.0000],\n",
       "         [ 0.0000,  0.0000,  0.0000,  ...,  0.0000,  0.0000,  0.0000],\n",
       "         [ 0.0000,  0.0000,  0.0000,  ...,  0.0000,  0.0000,  0.0000]],\n",
       "        device='cuda:1'),\n",
       " 'video_feature': tensor([[-0.0084,  0.0197, -0.0209,  ..., -0.0073,  0.0013,  0.0073],\n",
       "         [-0.0082,  0.0201, -0.0211,  ..., -0.0074,  0.0019,  0.0076],\n",
       "         [-0.0069,  0.0193, -0.0206,  ..., -0.0081,  0.0022,  0.0072],\n",
       "         ...,\n",
       "         [ 0.0000,  0.0000,  0.0000,  ...,  0.0000,  0.0000,  0.0000],\n",
       "         [ 0.0000,  0.0000,  0.0000,  ...,  0.0000,  0.0000,  0.0000],\n",
       "         [ 0.0000,  0.0000,  0.0000,  ...,  0.0000,  0.0000,  0.0000]])}"
      ]
     },
     "execution_count": 18,
     "metadata": {},
     "output_type": "execute_result"
    }
   ],
   "source": [
    "dataset = YCDataset(training_ann)\n",
    "# dl = DataLoader(dataset, batch_size=2)\n",
    "# # print(next)\n",
    "dataset[1]"
   ]
  },
  {
   "cell_type": "code",
   "execution_count": 88,
   "id": "d76b2e77",
   "metadata": {
    "scrolled": true
   },
   "outputs": [
    {
     "name": "stderr",
     "output_type": "stream",
     "text": [
      "100%|████████████████████████████████████████████████████████████████████████████████████████████████| 1193/1193 [00:32<00:00, 36.22it/s]"
     ]
    },
    {
     "name": "stdout",
     "output_type": "stream",
     "text": [
      "16\n",
      "774\n"
     ]
    },
    {
     "name": "stderr",
     "output_type": "stream",
     "text": [
      "\n"
     ]
    }
   ],
   "source": [
    "dataset = YCDataset(training_ann)\n",
    "dl = DataLoader(dataset, batch_size=1)\n",
    "step_sizes = []\n",
    "video_sizes = []\n",
    "for d in tqdm(dl):\n",
    "    step_feature, video_feature = d['step_feature'], d['video_feature']\n",
    "    step_sizes.append(step_feature.size(1))\n",
    "    video_sizes.append(video_feature.size(1))\n",
    "print(max(step_sizes))\n",
    "print(max(video_sizes))"
   ]
  },
  {
   "cell_type": "code",
   "execution_count": 93,
   "id": "ae4a1483",
   "metadata": {},
   "outputs": [
    {
     "data": {
      "image/png": "[encoded data removed]",
      "text/plain": [
       "<Figure size 432x288 with 1 Axes>"
      ]
     },
     "metadata": {
      "needs_background": "light"
     },
     "output_type": "display_data"
    }
   ],
   "source": [
    "sizes = []\n",
    "for idx, row in training_ann.iterrows():\n",
    "    sizes.append(torch.load(row.loc['video_feat']).cpu().size(0))\n",
    "plt.hist(sizes)\n",
    "training_ann['sizes'] = sizes"
   ]
  },
  {
   "cell_type": "code",
   "execution_count": 94,
   "id": "49425668",
   "metadata": {},
   "outputs": [
    {
     "ename": "ValueError",
     "evalue": "can only convert an array of size 1 to a Python scalar",
     "output_type": "error",
     "traceback": [
      "\u001b[0;31m---------------------------------------------------------------------------\u001b[0m",
      "\u001b[0;31mValueError\u001b[0m                                Traceback (most recent call last)",
      "\u001b[0;32m/tmp/ipykernel_3421938/3344363531.py\u001b[0m in \u001b[0;36m<module>\u001b[0;34m\u001b[0m\n\u001b[0;32m----> 1\u001b[0;31m \u001b[0mtraining_ann\u001b[0m\u001b[0;34m[\u001b[0m\u001b[0mtraining_ann\u001b[0m\u001b[0;34m[\u001b[0m\u001b[0;34m'sizes'\u001b[0m\u001b[0;34m]\u001b[0m \u001b[0;34m>=\u001b[0m \u001b[0;36m800\u001b[0m\u001b[0;34m]\u001b[0m\u001b[0;34m[\u001b[0m\u001b[0;34m'video_feat'\u001b[0m\u001b[0;34m]\u001b[0m\u001b[0;34m.\u001b[0m\u001b[0mitem\u001b[0m\u001b[0;34m(\u001b[0m\u001b[0;34m)\u001b[0m\u001b[0;34m\u001b[0m\u001b[0;34m\u001b[0m\u001b[0m\n\u001b[0m",
      "\u001b[0;32m~/.local/lib/python3.8/site-packages/pandas/core/base.py\u001b[0m in \u001b[0;36mitem\u001b[0;34m(self)\u001b[0m\n\u001b[1;32m    329\u001b[0m         \u001b[0;32mif\u001b[0m \u001b[0mlen\u001b[0m\u001b[0;34m(\u001b[0m\u001b[0mself\u001b[0m\u001b[0;34m)\u001b[0m \u001b[0;34m==\u001b[0m \u001b[0;36m1\u001b[0m\u001b[0;34m:\u001b[0m\u001b[0;34m\u001b[0m\u001b[0;34m\u001b[0m\u001b[0m\n\u001b[1;32m    330\u001b[0m             \u001b[0;32mreturn\u001b[0m \u001b[0mnext\u001b[0m\u001b[0;34m(\u001b[0m\u001b[0miter\u001b[0m\u001b[0;34m(\u001b[0m\u001b[0mself\u001b[0m\u001b[0;34m)\u001b[0m\u001b[0;34m)\u001b[0m\u001b[0;34m\u001b[0m\u001b[0;34m\u001b[0m\u001b[0m\n\u001b[0;32m--> 331\u001b[0;31m         \u001b[0;32mraise\u001b[0m \u001b[0mValueError\u001b[0m\u001b[0;34m(\u001b[0m\u001b[0;34m\"can only convert an array of size 1 to a Python scalar\"\u001b[0m\u001b[0;34m)\u001b[0m\u001b[0;34m\u001b[0m\u001b[0;34m\u001b[0m\u001b[0m\n\u001b[0m\u001b[1;32m    332\u001b[0m \u001b[0;34m\u001b[0m\u001b[0m\n\u001b[1;32m    333\u001b[0m     \u001b[0;34m@\u001b[0m\u001b[0mproperty\u001b[0m\u001b[0;34m\u001b[0m\u001b[0;34m\u001b[0m\u001b[0m\n",
      "\u001b[0;31mValueError\u001b[0m: can only convert an array of size 1 to a Python scalar"
     ]
    }
   ],
   "source": [
    "training_ann[training_ann['sizes'] >= 800]['video_feat'].item()"
   ]
  },
  {
   "cell_type": "code",
   "execution_count": 331,
   "id": "fcbcff36",
   "metadata": {},
   "outputs": [],
   "source": [
    "class SampleBatchIdx:\n",
    "    def __init__(self, dataset, cls_per_batch, batch_size):\n",
    "\n",
    "        assert batch_size % cls_per_batch == 0, f'The batch size {batch_size} and classes per batch {cls_per_batch} are not compatible'\n",
    "        self.dataset = dataset\n",
    "        self.cls_per_batch = cls_per_batch\n",
    "        self.batch_size = batch_size\n",
    "        self.samples_per_cls = self.batch_size // self.cls_per_batch \n",
    "\n",
    "        \n",
    "    def __len__(self):\n",
    "        return int(round(len(self.dataset) / self.batch_size))\n",
    "    \n",
    "    def get_random_classes(self):\n",
    "        return random.sample(list(self.dataset.df['class'].unique()), self.cls_per_batch)\n",
    "    \n",
    "    def __iter__(self):\n",
    "        for _ in range(len(self)):\n",
    "            sampled_classes = self.get_random_classes()\n",
    "            batch_idxs = self.dataset.df[self.dataset.df['class'].isin(sampled_classes)].groupby('class').apply(lambda x: x.sample(n=self.samples_per_cls)).reset_index(drop = True).sample(frac=1).index\n",
    "            yield batch_idxs.tolist()"
   ]
  },
  {
   "cell_type": "code",
   "execution_count": null,
   "id": "0fae246d",
   "metadata": {},
   "outputs": [],
   "source": []
  },
  {
   "cell_type": "code",
   "execution_count": 332,
   "id": "085d117f",
   "metadata": {},
   "outputs": [],
   "source": [
    "batch_sampler = SampleBatchIdx(dataset, 8, 24)\n",
    "dl = DataLoader(dataset, batch_sampler=batch_sampler)\n",
    "# batch = next(iter(dl))\n",
    "# batch['step_feature'].shape, batch['video_feature'].shape"
   ]
  },
  {
   "cell_type": "code",
   "execution_count": 333,
   "id": "3fea71cb",
   "metadata": {},
   "outputs": [
    {
     "name": "stderr",
     "output_type": "stream",
     "text": [
      "100%|██████████| 50/50 [00:09<00:00,  5.28it/s]\n"
     ]
    }
   ],
   "source": [
    "for i in tqdm(dl):\n",
    "    continue"
   ]
  },
  {
   "cell_type": "code",
   "execution_count": 327,
   "id": "1460c1f3",
   "metadata": {},
   "outputs": [
    {
     "data": {
      "text/plain": [
       "49.75"
      ]
     },
     "execution_count": 327,
     "metadata": {},
     "output_type": "execute_result"
    }
   ],
   "source": [
    "1194/24"
   ]
  },
  {
   "cell_type": "code",
   "execution_count": 97,
   "id": "6db63a09",
   "metadata": {},
   "outputs": [],
   "source": [
    "sizes = []\n",
    "for idx, row in validation_ann.iterrows():\n",
    "    torch.save(torch.load(row['video_feat']).cpu(), row['video_feat'])"
   ]
  },
  {
   "cell_type": "code",
   "execution_count": 24,
   "id": "0dedc8e8",
   "metadata": {},
   "outputs": [],
   "source": [
    "labels = pd.read_csv(ann_path/'label_foodtype.csv', header=None, names=['class','class_label']).set_index('class')"
   ]
  },
  {
   "cell_type": "code",
   "execution_count": 25,
   "id": "b3195c88",
   "metadata": {},
   "outputs": [
    {
     "data": {
      "text/html": [
       "<div>\n",
       "<style scoped>\n",
       "    .dataframe tbody tr th:only-of-type {\n",
       "        vertical-align: middle;\n",
       "    }\n",
       "\n",
       "    .dataframe tbody tr th {\n",
       "        vertical-align: top;\n",
       "    }\n",
       "\n",
       "    .dataframe thead th {\n",
       "        text-align: right;\n",
       "    }\n",
       "</style>\n",
       "<table border=\"1\" class=\"dataframe\">\n",
       "  <thead>\n",
       "    <tr style=\"text-align: right;\">\n",
       "      <th></th>\n",
       "      <th>class_label</th>\n",
       "    </tr>\n",
       "    <tr>\n",
       "      <th>class</th>\n",
       "      <th></th>\n",
       "    </tr>\n",
       "  </thead>\n",
       "  <tbody>\n",
       "    <tr>\n",
       "      <th>101</th>\n",
       "      <td>BLT</td>\n",
       "    </tr>\n",
       "    <tr>\n",
       "      <th>102</th>\n",
       "      <td>onion rings</td>\n",
       "    </tr>\n",
       "    <tr>\n",
       "      <th>103</th>\n",
       "      <td>burger</td>\n",
       "    </tr>\n",
       "    <tr>\n",
       "      <th>104</th>\n",
       "      <td>scrambled eggs</td>\n",
       "    </tr>\n",
       "    <tr>\n",
       "      <th>105</th>\n",
       "      <td>fried chicken</td>\n",
       "    </tr>\n",
       "    <tr>\n",
       "      <th>...</th>\n",
       "      <td>...</td>\n",
       "    </tr>\n",
       "    <tr>\n",
       "      <th>421</th>\n",
       "      <td>samosa</td>\n",
       "    </tr>\n",
       "    <tr>\n",
       "      <th>422</th>\n",
       "      <td>wanton noodle</td>\n",
       "    </tr>\n",
       "    <tr>\n",
       "      <th>423</th>\n",
       "      <td>singapore curry laksa</td>\n",
       "    </tr>\n",
       "    <tr>\n",
       "      <th>424</th>\n",
       "      <td>hainanese chicken rice</td>\n",
       "    </tr>\n",
       "    <tr>\n",
       "      <th>425</th>\n",
       "      <td>masala dosa</td>\n",
       "    </tr>\n",
       "  </tbody>\n",
       "</table>\n",
       "<p>110 rows × 1 columns</p>\n",
       "</div>"
      ],
      "text/plain": [
       "                  class_label\n",
       "class                        \n",
       "101                       BLT\n",
       "102               onion rings\n",
       "103                    burger\n",
       "104            scrambled eggs\n",
       "105             fried chicken\n",
       "...                       ...\n",
       "421                    samosa\n",
       "422             wanton noodle\n",
       "423     singapore curry laksa\n",
       "424    hainanese chicken rice\n",
       "425               masala dosa\n",
       "\n",
       "[110 rows x 1 columns]"
      ]
     },
     "execution_count": 25,
     "metadata": {},
     "output_type": "execute_result"
    }
   ],
   "source": [
    "labels"
   ]
  },
  {
   "cell_type": "code",
   "execution_count": 57,
   "id": "d1e58764",
   "metadata": {},
   "outputs": [],
   "source": [
    "s3dg_path = Path('/common/users/dm1487/youcook2_s3d_embeddings/s3d_features')\n",
    "raw_text_path = Path('/common/users/dm1487/milnce_features/raw_text')"
   ]
  },
  {
   "cell_type": "code",
   "execution_count": 82,
   "id": "0971116f",
   "metadata": {},
   "outputs": [
    {
     "data": {
      "text/html": [
       "<div>\n",
       "<style scoped>\n",
       "    .dataframe tbody tr th:only-of-type {\n",
       "        vertical-align: middle;\n",
       "    }\n",
       "\n",
       "    .dataframe tbody tr th {\n",
       "        vertical-align: top;\n",
       "    }\n",
       "\n",
       "    .dataframe thead th {\n",
       "        text-align: right;\n",
       "    }\n",
       "</style>\n",
       "<table border=\"1\" class=\"dataframe\">\n",
       "  <thead>\n",
       "    <tr style=\"text-align: right;\">\n",
       "      <th></th>\n",
       "      <th>text_feat</th>\n",
       "      <th>key</th>\n",
       "    </tr>\n",
       "  </thead>\n",
       "  <tbody>\n",
       "    <tr>\n",
       "      <th>0</th>\n",
       "      <td>/common/users/dm1487/milnce_features/raw_text/...</td>\n",
       "      <td>Xp2HNiLabRI</td>\n",
       "    </tr>\n",
       "    <tr>\n",
       "      <th>1</th>\n",
       "      <td>/common/users/dm1487/milnce_features/raw_text/...</td>\n",
       "      <td>GyLX64aJY80</td>\n",
       "    </tr>\n",
       "    <tr>\n",
       "      <th>2</th>\n",
       "      <td>/common/users/dm1487/milnce_features/raw_text/...</td>\n",
       "      <td>RoLhMa9SHsI</td>\n",
       "    </tr>\n",
       "    <tr>\n",
       "      <th>3</th>\n",
       "      <td>/common/users/dm1487/milnce_features/raw_text/...</td>\n",
       "      <td>1uoT5TjyWsU</td>\n",
       "    </tr>\n",
       "    <tr>\n",
       "      <th>4</th>\n",
       "      <td>/common/users/dm1487/milnce_features/raw_text/...</td>\n",
       "      <td>qq0Wu8fJQLI</td>\n",
       "    </tr>\n",
       "  </tbody>\n",
       "</table>\n",
       "</div>"
      ],
      "text/plain": [
       "                                           text_feat          key\n",
       "0  /common/users/dm1487/milnce_features/raw_text/...  Xp2HNiLabRI\n",
       "1  /common/users/dm1487/milnce_features/raw_text/...  GyLX64aJY80\n",
       "2  /common/users/dm1487/milnce_features/raw_text/...  RoLhMa9SHsI\n",
       "3  /common/users/dm1487/milnce_features/raw_text/...  1uoT5TjyWsU\n",
       "4  /common/users/dm1487/milnce_features/raw_text/...  qq0Wu8fJQLI"
      ]
     },
     "execution_count": 82,
     "metadata": {},
     "output_type": "execute_result"
    }
   ],
   "source": [
    "df_text = pd.DataFrame([[i, i.split('/')[-1].replace('.pth', '')] for i in glob.glob(str(raw_text_path/'*/*/*.pth'))], columns=['text_feat', 'key'])\n",
    "df_text.head()"
   ]
  },
  {
   "cell_type": "code",
   "execution_count": 84,
   "id": "6287fb98",
   "metadata": {},
   "outputs": [
    {
     "data": {
      "text/html": [
       "<div>\n",
       "<style scoped>\n",
       "    .dataframe tbody tr th:only-of-type {\n",
       "        vertical-align: middle;\n",
       "    }\n",
       "\n",
       "    .dataframe tbody tr th {\n",
       "        vertical-align: top;\n",
       "    }\n",
       "\n",
       "    .dataframe thead th {\n",
       "        text-align: right;\n",
       "    }\n",
       "</style>\n",
       "<table border=\"1\" class=\"dataframe\">\n",
       "  <thead>\n",
       "    <tr style=\"text-align: right;\">\n",
       "      <th></th>\n",
       "      <th>video_feat</th>\n",
       "      <th>key</th>\n",
       "    </tr>\n",
       "  </thead>\n",
       "  <tbody>\n",
       "    <tr>\n",
       "      <th>0</th>\n",
       "      <td>/common/users/dm1487/youcook2_s3d_embeddings/s...</td>\n",
       "      <td>YUWG15N2yW4</td>\n",
       "    </tr>\n",
       "    <tr>\n",
       "      <th>1</th>\n",
       "      <td>/common/users/dm1487/youcook2_s3d_embeddings/s...</td>\n",
       "      <td>3tGhLc48eX8</td>\n",
       "    </tr>\n",
       "    <tr>\n",
       "      <th>2</th>\n",
       "      <td>/common/users/dm1487/youcook2_s3d_embeddings/s...</td>\n",
       "      <td>PKt_za_XfF8</td>\n",
       "    </tr>\n",
       "    <tr>\n",
       "      <th>3</th>\n",
       "      <td>/common/users/dm1487/youcook2_s3d_embeddings/s...</td>\n",
       "      <td>irnNm5jRo1U</td>\n",
       "    </tr>\n",
       "    <tr>\n",
       "      <th>4</th>\n",
       "      <td>/common/users/dm1487/youcook2_s3d_embeddings/s...</td>\n",
       "      <td>C_6yMh3tEQk</td>\n",
       "    </tr>\n",
       "  </tbody>\n",
       "</table>\n",
       "</div>"
      ],
      "text/plain": [
       "                                          video_feat          key\n",
       "0  /common/users/dm1487/youcook2_s3d_embeddings/s...  YUWG15N2yW4\n",
       "1  /common/users/dm1487/youcook2_s3d_embeddings/s...  3tGhLc48eX8\n",
       "2  /common/users/dm1487/youcook2_s3d_embeddings/s...  PKt_za_XfF8\n",
       "3  /common/users/dm1487/youcook2_s3d_embeddings/s...  irnNm5jRo1U\n",
       "4  /common/users/dm1487/youcook2_s3d_embeddings/s...  C_6yMh3tEQk"
      ]
     },
     "execution_count": 84,
     "metadata": {},
     "output_type": "execute_result"
    }
   ],
   "source": [
    "df_s3dg = pd.DataFrame([[i, i.split('/')[-1].replace('.npy', '')] for i in glob.glob(str(s3dg_path/'*.npy'))], columns=['video_feat', 'key'])\n",
    "df_s3dg.head()"
   ]
  },
  {
   "cell_type": "code",
   "execution_count": 89,
   "id": "10389b44",
   "metadata": {},
   "outputs": [],
   "source": [
    "df_all_s3dg = df_s3dg.set_index('key').join(df_text.set_index('key')).dropna()\n",
    "df_all_s3dg = df_all_s3dg.join(annotations.set_index('key')).reset_index()"
   ]
  },
  {
   "cell_type": "code",
   "execution_count": 90,
   "id": "8c52f83b",
   "metadata": {},
   "outputs": [
    {
     "data": {
      "text/html": [
       "<div>\n",
       "<style scoped>\n",
       "    .dataframe tbody tr th:only-of-type {\n",
       "        vertical-align: middle;\n",
       "    }\n",
       "\n",
       "    .dataframe tbody tr th {\n",
       "        vertical-align: top;\n",
       "    }\n",
       "\n",
       "    .dataframe thead th {\n",
       "        text-align: right;\n",
       "    }\n",
       "</style>\n",
       "<table border=\"1\" class=\"dataframe\">\n",
       "  <thead>\n",
       "    <tr style=\"text-align: right;\">\n",
       "      <th></th>\n",
       "      <th>key</th>\n",
       "      <th>video_feat</th>\n",
       "      <th>text_feat</th>\n",
       "      <th>class</th>\n",
       "      <th>subset</th>\n",
       "      <th>class_label</th>\n",
       "      <th>counts</th>\n",
       "    </tr>\n",
       "  </thead>\n",
       "  <tbody>\n",
       "    <tr>\n",
       "      <th>0</th>\n",
       "      <td>YUWG15N2yW4</td>\n",
       "      <td>/common/users/dm1487/youcook2_s3d_embeddings/s...</td>\n",
       "      <td>/common/users/dm1487/milnce_features/raw_text/...</td>\n",
       "      <td>224</td>\n",
       "      <td>training</td>\n",
       "      <td>wiener schnitzel</td>\n",
       "      <td>12.0</td>\n",
       "    </tr>\n",
       "    <tr>\n",
       "      <th>1</th>\n",
       "      <td>3tGhLc48eX8</td>\n",
       "      <td>/common/users/dm1487/youcook2_s3d_embeddings/s...</td>\n",
       "      <td>/common/users/dm1487/milnce_features/raw_text/...</td>\n",
       "      <td>110</td>\n",
       "      <td>training</td>\n",
       "      <td>caesar salad</td>\n",
       "      <td>15.0</td>\n",
       "    </tr>\n",
       "    <tr>\n",
       "      <th>2</th>\n",
       "      <td>PKt_za_XfF8</td>\n",
       "      <td>/common/users/dm1487/youcook2_s3d_embeddings/s...</td>\n",
       "      <td>/common/users/dm1487/milnce_features/raw_text/...</td>\n",
       "      <td>120</td>\n",
       "      <td>training</td>\n",
       "      <td>hash browns</td>\n",
       "      <td>14.0</td>\n",
       "    </tr>\n",
       "    <tr>\n",
       "      <th>3</th>\n",
       "      <td>irnNm5jRo1U</td>\n",
       "      <td>/common/users/dm1487/youcook2_s3d_embeddings/s...</td>\n",
       "      <td>/common/users/dm1487/milnce_features/raw_text/...</td>\n",
       "      <td>313</td>\n",
       "      <td>training</td>\n",
       "      <td>salmon nigiri</td>\n",
       "      <td>9.0</td>\n",
       "    </tr>\n",
       "    <tr>\n",
       "      <th>4</th>\n",
       "      <td>C_6yMh3tEQk</td>\n",
       "      <td>/common/users/dm1487/youcook2_s3d_embeddings/s...</td>\n",
       "      <td>/common/users/dm1487/milnce_features/raw_text/...</td>\n",
       "      <td>403</td>\n",
       "      <td>training</td>\n",
       "      <td>pad thai</td>\n",
       "      <td>10.0</td>\n",
       "    </tr>\n",
       "  </tbody>\n",
       "</table>\n",
       "</div>"
      ],
      "text/plain": [
       "           key                                         video_feat  \\\n",
       "0  YUWG15N2yW4  /common/users/dm1487/youcook2_s3d_embeddings/s...   \n",
       "1  3tGhLc48eX8  /common/users/dm1487/youcook2_s3d_embeddings/s...   \n",
       "2  PKt_za_XfF8  /common/users/dm1487/youcook2_s3d_embeddings/s...   \n",
       "3  irnNm5jRo1U  /common/users/dm1487/youcook2_s3d_embeddings/s...   \n",
       "4  C_6yMh3tEQk  /common/users/dm1487/youcook2_s3d_embeddings/s...   \n",
       "\n",
       "                                           text_feat  class    subset  \\\n",
       "0  /common/users/dm1487/milnce_features/raw_text/...    224  training   \n",
       "1  /common/users/dm1487/milnce_features/raw_text/...    110  training   \n",
       "2  /common/users/dm1487/milnce_features/raw_text/...    120  training   \n",
       "3  /common/users/dm1487/milnce_features/raw_text/...    313  training   \n",
       "4  /common/users/dm1487/milnce_features/raw_text/...    403  training   \n",
       "\n",
       "        class_label  counts  \n",
       "0  wiener schnitzel    12.0  \n",
       "1      caesar salad    15.0  \n",
       "2       hash browns    14.0  \n",
       "3     salmon nigiri     9.0  \n",
       "4          pad thai    10.0  "
      ]
     },
     "execution_count": 90,
     "metadata": {},
     "output_type": "execute_result"
    }
   ],
   "source": [
    "df_all_s3dg.head()"
   ]
  },
  {
   "cell_type": "code",
   "execution_count": 91,
   "id": "deb9d88f",
   "metadata": {},
   "outputs": [],
   "source": [
    "training_s3dg = df_all_s3dg[df_all_s3dg['subset'] == 'training']\n",
    "validation_s3dg = df_all_s3dg[df_all_s3dg['subset'] == 'validation']"
   ]
  },
  {
   "cell_type": "code",
   "execution_count": 92,
   "id": "70b37abe",
   "metadata": {},
   "outputs": [],
   "source": [
    "training_s3dg.to_csv('training_with_labels_s3dg.csv')\n",
    "validation_s3dg.to_csv('validation_with_labels_s3dg.csv')"
   ]
  },
  {
   "cell_type": "code",
   "execution_count": 67,
   "id": "ea6578f0",
   "metadata": {
    "scrolled": true
   },
   "outputs": [
    {
     "name": "stdout",
     "output_type": "stream",
     "text": [
      "(100, 512)\n",
      "(56, 512)\n",
      "(54, 512)\n",
      "(44, 512)\n",
      "(132, 512)\n",
      "(191, 512)\n",
      "(36, 512)\n",
      "(73, 512)\n",
      "(62, 512)\n",
      "(59, 512)\n",
      "(77, 512)\n"
     ]
    }
   ],
   "source": [
    "for idx, row in df_all_s3dg.iterrows():\n",
    "    print(np.load(row['video_feat']).shape)\n",
    "    if idx == 10:\n",
    "        break"
   ]
  },
  {
   "cell_type": "markdown",
   "id": "5af797fe",
   "metadata": {},
   "source": [
    "## S3DG"
   ]
  },
  {
   "cell_type": "code",
   "execution_count": 5,
   "id": "4e4853c5",
   "metadata": {},
   "outputs": [],
   "source": [
    "# def create_data_s3dg():\n",
    "#     ann = []\n",
    "#     with open(ann_path/'annotations/youcookii_annotations_trainval.json', 'rb') as f:\n",
    "#         ann = json.load(f)\n",
    "\n",
    "#     labels = pd.read_csv(ann_path/'label_foodtype.csv', header=None, names=['class','class_label']).set_index('class')\n",
    "#     label_counts = pd.DataFrame({'class': sorted(os.listdir(v_train)), \n",
    "#               'counts': [len(os.listdir(opj(v_train, i))) for i in sorted(os.listdir(v_train))]})\n",
    "#     label_counts['class'] = label_counts['class'].astype(np.int64)\n",
    "\n",
    "#     label_ = labels.join(label_counts.set_index('class')).reset_index()\n",
    "#     label_ = label_.fillna(0)\n",
    "#     label_ = label_[label_['counts'] > 5.0]\n",
    "\n",
    "#     annotations = pd.DataFrame([[k, v['recipe_type'], v['subset']] for k, v in ann['database'].items()], columns=['key', 'class', 'subset'])\n",
    "#     annotations['class'] = annotations['class'].astype(np.int64)\n",
    "#     annotations = annotations.set_index('class').join(label_.set_index('class')).reset_index()\n",
    "\n",
    "#     s3dg_path = Path('/common/users/dm1487/youcook2_s3d_embeddings/s3d_features')\n",
    "#     raw_text_path = Path('/common/users/dm1487/milnce_features/raw_text')\n",
    "#     df_text = pd.DataFrame([[i, i.split('/')[-1].replace('.pth', '')] for i in glob.glob(str(raw_text_path/'*/*/*.pth'))], columns=['text_feat', 'key'])\n",
    "#     df_s3dg = pd.DataFrame([[i, i.split('/')[-1].replace('.npy', '')] for i in glob.glob(str(s3dg_path/'*.npy'))], columns=['video_feat', 'key'])\n",
    "#     df_all_s3dg = df_s3dg.set_index('key').join(df_text.set_index('key')).dropna()\n",
    "#     df_all_s3dg = df_all_s3dg.join(annotations.set_index('key')).reset_index()\n",
    "\n",
    "#     size = []\n",
    "#     for idx, row in df_all_s3dg.iterrows():\n",
    "#         size.append(np.load(row['video_feat']).shape[0])\n",
    "#     df_all_s3dg['frames_size'] = size\n",
    "#     training_s3dg = df_all_s3dg[df_all_s3dg['subset'] == 'training']\n",
    "#     validation_s3dg = df_all_s3dg[df_all_s3dg['subset'] == 'validation']\n",
    "#     training_s3dg.to_csv('training_with_labels_s3dg.csv')\n",
    "#     validation_s3dg.to_csv('validation_with_labels_s3dg.csv')\n",
    "# create_data_s3dg()\n",
    "import pandas as pd\n",
    "import math\n",
    "training_s3dg = pd.read_csv('training_with_labels_s3dg.csv')"
   ]
  },
  {
   "cell_type": "code",
   "execution_count": 6,
   "id": "c352aa79",
   "metadata": {},
   "outputs": [],
   "source": [
    "training_s3dg_w_frames = training_s3dg.set_index('key').join(pd.read_csv('data/splits/train_duration_totalframe.csv').set_index('vid_id')).reset_index()\n",
    "training_s3dg_w_frames['total/size'] = (training_s3dg_w_frames['total_frame']/training_s3dg_w_frames['frames_size'])\n",
    "training_s3dg_w_frames['total/size'] = training_s3dg_w_frames['total/size'].apply(math.floor)\n",
    "training_s3dg_w_frames['fps'] = (training_s3dg_w_frames['total_frame']/training_s3dg_w_frames['duration'])\n",
    "training_s3dg_w_frames['fps'] = training_s3dg_w_frames['fps'].apply(math.ceil)\n",
    "training_s3dg_w_frames['measure'] = training_s3dg_w_frames['total/size']/training_s3dg_w_frames['fps']"
   ]
  },
  {
   "cell_type": "code",
   "execution_count": 9,
   "id": "0297118b",
   "metadata": {},
   "outputs": [
    {
     "data": {
      "text/html": [
       "<div>\n",
       "<style scoped>\n",
       "    .dataframe tbody tr th:only-of-type {\n",
       "        vertical-align: middle;\n",
       "    }\n",
       "\n",
       "    .dataframe tbody tr th {\n",
       "        vertical-align: top;\n",
       "    }\n",
       "\n",
       "    .dataframe thead th {\n",
       "        text-align: right;\n",
       "    }\n",
       "</style>\n",
       "<table border=\"1\" class=\"dataframe\">\n",
       "  <thead>\n",
       "    <tr style=\"text-align: right;\">\n",
       "      <th></th>\n",
       "      <th>key</th>\n",
       "      <th>Unnamed: 0</th>\n",
       "      <th>video_feat</th>\n",
       "      <th>text_feat</th>\n",
       "      <th>class</th>\n",
       "      <th>subset</th>\n",
       "      <th>class_label</th>\n",
       "      <th>counts</th>\n",
       "      <th>frames_size</th>\n",
       "      <th>duration</th>\n",
       "      <th>total_frame</th>\n",
       "      <th>total/size</th>\n",
       "      <th>fps</th>\n",
       "      <th>measure</th>\n",
       "    </tr>\n",
       "  </thead>\n",
       "  <tbody>\n",
       "    <tr>\n",
       "      <th>0</th>\n",
       "      <td>YUWG15N2yW4</td>\n",
       "      <td>0</td>\n",
       "      <td>/common/users/dm1487/youcook2_s3d_embeddings/s...</td>\n",
       "      <td>/common/users/dm1487/milnce_features/raw_text/...</td>\n",
       "      <td>224</td>\n",
       "      <td>training</td>\n",
       "      <td>wiener schnitzel</td>\n",
       "      <td>12.0</td>\n",
       "      <td>100</td>\n",
       "      <td>402.47</td>\n",
       "      <td>12060</td>\n",
       "      <td>120</td>\n",
       "      <td>30</td>\n",
       "      <td>4.00</td>\n",
       "    </tr>\n",
       "    <tr>\n",
       "      <th>1</th>\n",
       "      <td>3tGhLc48eX8</td>\n",
       "      <td>1</td>\n",
       "      <td>/common/users/dm1487/youcook2_s3d_embeddings/s...</td>\n",
       "      <td>/common/users/dm1487/milnce_features/raw_text/...</td>\n",
       "      <td>110</td>\n",
       "      <td>training</td>\n",
       "      <td>caesar salad</td>\n",
       "      <td>15.0</td>\n",
       "      <td>56</td>\n",
       "      <td>224.52</td>\n",
       "      <td>5388</td>\n",
       "      <td>96</td>\n",
       "      <td>24</td>\n",
       "      <td>4.00</td>\n",
       "    </tr>\n",
       "    <tr>\n",
       "      <th>2</th>\n",
       "      <td>PKt_za_XfF8</td>\n",
       "      <td>2</td>\n",
       "      <td>/common/users/dm1487/youcook2_s3d_embeddings/s...</td>\n",
       "      <td>/common/users/dm1487/milnce_features/raw_text/...</td>\n",
       "      <td>120</td>\n",
       "      <td>training</td>\n",
       "      <td>hash browns</td>\n",
       "      <td>14.0</td>\n",
       "      <td>54</td>\n",
       "      <td>219.66</td>\n",
       "      <td>5490</td>\n",
       "      <td>101</td>\n",
       "      <td>25</td>\n",
       "      <td>4.04</td>\n",
       "    </tr>\n",
       "    <tr>\n",
       "      <th>3</th>\n",
       "      <td>irnNm5jRo1U</td>\n",
       "      <td>3</td>\n",
       "      <td>/common/users/dm1487/youcook2_s3d_embeddings/s...</td>\n",
       "      <td>/common/users/dm1487/milnce_features/raw_text/...</td>\n",
       "      <td>313</td>\n",
       "      <td>training</td>\n",
       "      <td>salmon nigiri</td>\n",
       "      <td>9.0</td>\n",
       "      <td>44</td>\n",
       "      <td>176.73</td>\n",
       "      <td>4417</td>\n",
       "      <td>100</td>\n",
       "      <td>25</td>\n",
       "      <td>4.00</td>\n",
       "    </tr>\n",
       "    <tr>\n",
       "      <th>4</th>\n",
       "      <td>C_6yMh3tEQk</td>\n",
       "      <td>4</td>\n",
       "      <td>/common/users/dm1487/youcook2_s3d_embeddings/s...</td>\n",
       "      <td>/common/users/dm1487/milnce_features/raw_text/...</td>\n",
       "      <td>403</td>\n",
       "      <td>training</td>\n",
       "      <td>pad thai</td>\n",
       "      <td>10.0</td>\n",
       "      <td>132</td>\n",
       "      <td>529.53</td>\n",
       "      <td>15867</td>\n",
       "      <td>120</td>\n",
       "      <td>30</td>\n",
       "      <td>4.00</td>\n",
       "    </tr>\n",
       "  </tbody>\n",
       "</table>\n",
       "</div>"
      ],
      "text/plain": [
       "           key  Unnamed: 0                                         video_feat  \\\n",
       "0  YUWG15N2yW4           0  /common/users/dm1487/youcook2_s3d_embeddings/s...   \n",
       "1  3tGhLc48eX8           1  /common/users/dm1487/youcook2_s3d_embeddings/s...   \n",
       "2  PKt_za_XfF8           2  /common/users/dm1487/youcook2_s3d_embeddings/s...   \n",
       "3  irnNm5jRo1U           3  /common/users/dm1487/youcook2_s3d_embeddings/s...   \n",
       "4  C_6yMh3tEQk           4  /common/users/dm1487/youcook2_s3d_embeddings/s...   \n",
       "\n",
       "                                           text_feat  class    subset  \\\n",
       "0  /common/users/dm1487/milnce_features/raw_text/...    224  training   \n",
       "1  /common/users/dm1487/milnce_features/raw_text/...    110  training   \n",
       "2  /common/users/dm1487/milnce_features/raw_text/...    120  training   \n",
       "3  /common/users/dm1487/milnce_features/raw_text/...    313  training   \n",
       "4  /common/users/dm1487/milnce_features/raw_text/...    403  training   \n",
       "\n",
       "        class_label  counts  frames_size  duration  total_frame  total/size  \\\n",
       "0  wiener schnitzel    12.0          100    402.47        12060         120   \n",
       "1      caesar salad    15.0           56    224.52         5388          96   \n",
       "2       hash browns    14.0           54    219.66         5490         101   \n",
       "3     salmon nigiri     9.0           44    176.73         4417         100   \n",
       "4          pad thai    10.0          132    529.53        15867         120   \n",
       "\n",
       "   fps  measure  \n",
       "0   30     4.00  \n",
       "1   24     4.00  \n",
       "2   25     4.04  \n",
       "3   25     4.00  \n",
       "4   30     4.00  "
      ]
     },
     "execution_count": 9,
     "metadata": {},
     "output_type": "execute_result"
    }
   ],
   "source": [
    "training_s3dg_w_frames.head()"
   ]
  },
  {
   "cell_type": "code",
   "execution_count": 7,
   "id": "5cb68af5",
   "metadata": {},
   "outputs": [
    {
     "data": {
      "text/plain": [
       "4.011714756544991"
      ]
     },
     "execution_count": 7,
     "metadata": {},
     "output_type": "execute_result"
    }
   ],
   "source": [
    "training_s3dg_w_frames['measure'].mean()"
   ]
  },
  {
   "cell_type": "code",
   "execution_count": 11,
   "id": "9e4663ef",
   "metadata": {},
   "outputs": [
    {
     "data": {
      "text/plain": [
       "class\n",
       "212    5\n",
       "Name: key, dtype: int64"
      ]
     },
     "execution_count": 11,
     "metadata": {},
     "output_type": "execute_result"
    }
   ],
   "source": [
    "import pandas as pd\n",
    "df = pd.read_csv('training_with_labels_s3dg.csv').groupby('class')['key'].count()\n",
    "# df[df['']]\n",
    "df[df == 5]"
   ]
  },
  {
   "cell_type": "code",
   "execution_count": null,
   "id": "a7bb0423",
   "metadata": {},
   "outputs": [],
   "source": [
    "os.listdir()"
   ]
  }
 ],
 "metadata": {
  "kernelspec": {
   "display_name": "Python 3 (ipykernel)",
   "language": "python",
   "name": "python3"
  },
  "language_info": {
   "codemirror_mode": {
    "name": "ipython",
    "version": 3
   },
   "file_extension": ".py",
   "mimetype": "text/x-python",
   "name": "python",
   "nbconvert_exporter": "python",
   "pygments_lexer": "ipython3",
   "version": "3.8.10"
  }
 },
 "nbformat": 4,
 "nbformat_minor": 5
}
